{
 "cells": [
  {
   "cell_type": "markdown",
   "id": "39d1115a",
   "metadata": {},
   "source": [
    "# Union-Find / Disjoint Sets"
   ]
  },
  {
   "cell_type": "markdown",
   "id": "673440c0",
   "metadata": {},
   "source": []
  },
  {
   "cell_type": "code",
   "execution_count": null,
   "id": "0595dd12",
   "metadata": {},
   "outputs": [],
   "source": [
    "class UnionFind:\n",
    "    def __init__(self, n):\n",
    "        self.par = {}\n",
    "        self.rank = {}\n",
    "\n",
    "        for i in range(1, n + 1):\n",
    "            self.par[i] = i\n",
    "            self.rank[i] = 0\n",
    "    \n",
    "    # Find parent of n, with path compression.\n",
    "    def find(self, n):\n",
    "        p = self.par[n]\n",
    "        while p != self.par[p]:\n",
    "            self.par[p] = self.par[self.par[p]]\n",
    "            p = self.par[p]\n",
    "        return p\n",
    "\n",
    "    # Union by height / rank.\n",
    "    # Return false if already connected, true otherwise.\n",
    "    def union(self, n1, n2):\n",
    "        p1, p2 = self.find(n1), self.find(n2)\n",
    "        if p1 == p2:\n",
    "            return False\n",
    "        \n",
    "        if self.rank[p1] > self.rank[p2]:\n",
    "            self.par[p2] = p1\n",
    "        elif self.rank[p1] < self.rank[p2]:\n",
    "            self.par[p1] = p2\n",
    "        else:\n",
    "            self.par[p1] = p2\n",
    "            self.rank[p2] += 1\n",
    "        return True"
   ]
  }
 ],
 "metadata": {
  "language_info": {
   "name": "python"
  }
 },
 "nbformat": 4,
 "nbformat_minor": 5
}
