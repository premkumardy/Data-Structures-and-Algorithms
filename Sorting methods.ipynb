{
 "cells": [
  {
   "cell_type": "markdown",
   "metadata": {},
   "source": [
    "#Insertion Sorting"
   ]
  },
  {
   "cell_type": "code",
   "execution_count": 3,
   "metadata": {},
   "outputs": [],
   "source": [
    "import random\n",
    "x = random.sample(range(1,101),10)"
   ]
  },
  {
   "cell_type": "code",
   "execution_count": 4,
   "metadata": {},
   "outputs": [
    {
     "name": "stdout",
     "output_type": "stream",
     "text": [
      "[42, 70, 10, 26, 32, 61, 76, 14, 6, 65]\n",
      "([6, 10, 14, 26, 32, 42, 61, 65, 70, 76], 23)\n"
     ]
    }
   ],
   "source": [
    "\n",
    "\n",
    "def InsertSort(arr):\n",
    "    if len(arr) <= 1:\n",
    "        return arr\n",
    "    iteration = 0\n",
    "    for i in range(len(arr)):\n",
    "        j = i-1\n",
    "        while j >= 0 and arr[j+1] < arr[j]:\n",
    "            if arr[j+1] < arr[j]:\n",
    "                arr[j+1],arr[j] = arr[j], arr[j+1]\n",
    "            j -= 1\n",
    "            iteration += 1\n",
    "    return arr,iteration\n",
    "\n",
    "\n",
    "\n",
    "print(x)\n",
    "print(InsertSort(x))"
   ]
  },
  {
   "cell_type": "code",
   "execution_count": null,
   "metadata": {},
   "outputs": [],
   "source": [
    "\n",
    "def InsertSort(arr):\n",
    "    if len(arr) <= 1:\n",
    "        return arr\n",
    "    iteration = 0\n",
    "    for i in range(len(arr)):\n",
    "        j = i-1\n",
    "        while j >= 0 : #without and arr[j+1] < arr[j] condition, which prevents going back to looking back at array which is sorted.  If a smaller value at right is not found no need to lokk back, as they will already be sorted\n",
    "            if arr[j+1] < arr[j]:\n",
    "                arr[j+1],arr[j] = arr[j], arr[j+1]\n",
    "            j -= 1\n",
    "            iteration += 1\n",
    "    return arr,iteration\n",
    "\n",
    "\n",
    "print(x)\n",
    "print(InsertSort(x))"
   ]
  },
  {
   "cell_type": "markdown",
   "metadata": {},
   "source": [
    "#merge sorting"
   ]
  },
  {
   "cell_type": "code",
   "execution_count": 1,
   "metadata": {},
   "outputs": [],
   "source": [
    "#two pointer based merging of 2 split of given array\n",
    "import random\n",
    "def merge(arr,s,m,e):\n",
    "\n",
    "    left, right = arr[s:m+1],arr[m+1:e+1]\n",
    "\n",
    "    l,r,k = 0,0,s\n",
    "    ll = len(left)\n",
    "    rr = len(right)\n",
    "    while l < ll and r < rr:\n",
    "        if left[l] <= right[r]:\n",
    "            arr[k] = left[l]\n",
    "            l+=1\n",
    "        else:\n",
    "            arr[k] = right[r]\n",
    "            r += 1\n",
    "        k+=1\n",
    "\n",
    "    while l < ll:\n",
    "        arr[k] = left[l]\n",
    "        l += 1\n",
    "        k += 1\n",
    "\n",
    "    while r < rr:\n",
    "        arr[k] = right[r]\n",
    "        r += 1\n",
    "        k += 1\n",
    "    \n",
    "    return arr\n",
    "            \n",
    "\n",
    "#recursive merge sort\n",
    "def mergesort(arr,s,e):\n",
    "    if e-s+1 <= 1:\n",
    "        return arr\n",
    "    \n",
    "    m = (s+e)//2\n",
    "    mergesort(arr,s,m)\n",
    "    mergesort(arr,m+1,e)\n",
    "    merge(arr,s,m,e)\n",
    "\n",
    "    return arr\n",
    "    \n",
    "\n",
    "print(random.choices(range(1, 101), k=1000000000))"
   ]
  },
  {
   "cell_type": "markdown",
   "metadata": {},
   "source": [
    "912. Sort an Array\n",
    "\n",
    "Given an array of integers nums, sort the array in ascending order and return it.\n",
    "\n",
    "You must solve the problem without using any built-in functions in O(nlog(n)) time complexity and with the smallest space complexity possible.\n",
    "\n",
    " \n",
    "\n",
    "Example 1:\n",
    "\n",
    "Input: nums = [5,2,3,1]\n",
    "Output: [1,2,3,5]\n",
    "Explanation: After sorting the array, the positions of some numbers are not changed (for example, 2 and 3), while the positions of other numbers are changed (for example, 1 and 5).\n",
    "Example 2:\n",
    "\n",
    "Input: nums = [5,1,1,2,0,0]\n",
    "Output: [0,0,1,1,2,5]\n",
    "Explanation: Note that the values of nums are not necessairly unique."
   ]
  },
  {
   "cell_type": "code",
   "execution_count": null,
   "metadata": {},
   "outputs": [],
   "source": [
    "\n",
    "#my 1077ms solution\n",
    "class Solution(object):\n",
    "    def sortArray(self, nums):\n",
    "        \"\"\"\n",
    "        :type nums: List[int]\n",
    "        :rtype: List[int]\n",
    "        \"\"\"\n",
    "        def mergeSort(arr,s,e):\n",
    "            if e-s+1 <=1:\n",
    "                return arr\n",
    "\n",
    "            m = (e+s)//2\n",
    "            mergeSort(arr,s,m)\n",
    "            mergeSort(arr,m+1,e)\n",
    "\n",
    "            merge(arr,s,m,e)\n",
    "\n",
    "            return arr\n",
    "\n",
    "        def merge(arr,s,m,e):\n",
    "            left = arr[s:m+1]\n",
    "            right = arr[m+1:e+1]\n",
    "            l,r,k = 0,0,s\n",
    "\n",
    "            while l < len(left) and r < len(right):\n",
    "                if left[l] <= right[r]:\n",
    "                    arr[k] = left[l]\n",
    "                    l+=1\n",
    "                else:\n",
    "                    arr[k] = right[r]\n",
    "                    r+=1\n",
    "                k+=1\n",
    "\n",
    "            while l < len(left):\n",
    "                arr[k] = left[l]\n",
    "                l+=1\n",
    "                k+=1\n",
    "\n",
    "            while r < len(right):\n",
    "                arr[k] = right[r]\n",
    "                r+=1\n",
    "                k+=1\n",
    "\n",
    "            return arr\n",
    "\n",
    "        return mergeSort(nums,0,len(nums)-1)\n",
    "\n",
    "        \n",
    "#1035ms\n",
    "class Solution(object):\n",
    "    def sortArray(self, nums):\n",
    "        \"\"\"\n",
    "        :type nums: List[int]\n",
    "        :rtype: List[int]\n",
    "        \"\"\"\n",
    "        # base case\n",
    "        if len(nums) <=1: # if the length of current array is less than or equal to 1\n",
    "            return nums # return nums\n",
    "        \n",
    "        mid = len(nums) // 2\n",
    "        left = self.sortArray(nums[:mid]) \n",
    "        right = self.sortArray(nums[mid:])\n",
    "        \n",
    "        result = []\n",
    "        i = j = 0\n",
    "\n",
    "        while i < len(left) and j < len(right):\n",
    "            if left[i] < right[j]:\n",
    "                result.append(left[i])\n",
    "                i += 1\n",
    "            else:\n",
    "                result.append(right[j])\n",
    "                j += 1\n",
    "        \n",
    "        result.extend(left[i:]) # add remaining element \n",
    "        result.extend(right[j:]) # add remaining element \n",
    "        \n",
    "        return result\n",
    "\n",
    "        "
   ]
  },
  {
   "cell_type": "markdown",
   "metadata": {},
   "source": [
    "#Bucket Sort \n",
    "aka forbidden sorting algo\n",
    "1) applicable only if the range is know like gonnabe between 0 to 5 [0,1,2,3,4,5]\n",
    "2) not a stable algo"
   ]
  },
  {
   "cell_type": "code",
   "execution_count": 1,
   "metadata": {},
   "outputs": [
    {
     "name": "stdout",
     "output_type": "stream",
     "text": [
      "[0, 0, 0, 0, 0, 1, 1, 2, 2, 2, 2, 2, 2, 2, 3, 3, 3, 3, 3, 3, 3, 3, 4, 4, 4, 4, 4, 4, 4, 5]\n"
     ]
    }
   ],
   "source": [
    "#range Bucket sort\n",
    "import random\n",
    "def BucketSort(arr):\n",
    "    counts = [0]*6\n",
    "    for i in arr:\n",
    "        counts[i] += 1\n",
    "    \n",
    "    k = 0\n",
    "    for i in range(len(counts)):\n",
    "        for j in range(counts[i]):\n",
    "            arr[k] = i\n",
    "            k+=1\n",
    "    return arr\n",
    "\n",
    "print(BucketSort(random.choices(range(0,6),k=30)))"
   ]
  },
  {
   "cell_type": "code",
   "execution_count": 32,
   "metadata": {},
   "outputs": [],
   "source": [
    "def BucketSort(arr):\n",
    "    if len(arr) <= 1:\n",
    "        return arr\n",
    "    maxval = max(arr)\n",
    "    minval = min(arr)\n",
    "    bucket = [[] for i in range(maxval-minval+1)]\n",
    "    for i in arr:\n",
    "        bucket[i-minval].append(i)\n",
    "    for i in range(len(bucket)):\n",
    "        bucket[i] = InsertSort(bucket[i])\n",
    "    \n",
    "    result = []\n",
    "    for i in range(len(bucket)):\n",
    "        result.extend(bucket[i])\n",
    "    \n",
    "    return result"
   ]
  },
  {
   "cell_type": "code",
   "execution_count": 3,
   "metadata": {},
   "outputs": [
    {
     "data": {
      "text/plain": [
       "[0, 0, 1, 1, 2, 2, 2, 2, 2, 2]"
      ]
     },
     "execution_count": 3,
     "metadata": {},
     "output_type": "execute_result"
    }
   ],
   "source": [
    "def bucketSort(arr):\n",
    "    # Assuming arr only contains 0, 1 or 2\n",
    "    counts = [0, 0, 0]\n",
    "\n",
    "    # Count the quantity of each val in arr\n",
    "    for n in arr:\n",
    "        counts[n] += 1\n",
    "    \n",
    "    # Fill each bucket in the original array\n",
    "    i = 0\n",
    "    for n in range(len(counts)):\n",
    "        for j in range(counts[n]):\n",
    "            arr[i] = n\n",
    "            i += 1\n",
    "    return arr\n",
    "arr = [2,1,0,2,2,2,2,2,1,0]\n",
    "bucketSort(arr)"
   ]
  },
  {
   "cell_type": "code",
   "execution_count": 5,
   "metadata": {},
   "outputs": [
    {
     "name": "stdout",
     "output_type": "stream",
     "text": [
      "[[0, 0, 0, 0], 0, [1, 1, 1, 1, 1], 0, [2, 2, 2, 2, 2], 0, [3, 3, 3], 0, [4, 4, 4, 4, 4, 4], 0, [5, 5, 5, 5, 5, 5, 5], 0]\n"
     ]
    }
   ],
   "source": [
    "import random\n",
    "def BucketSort(arr):\n",
    "    if len(arr) <= 1:\n",
    "        return arr\n",
    "    maxval = max(arr)\n",
    "    minval = min(arr)\n",
    "    bucket = [[] for i in range(maxval-minval+1)]\n",
    "    for i in arr:\n",
    "        bucket[i-minval].append(i)\n",
    "    for i in range(len(bucket)):\n",
    "        bucket[i] = InsertSort(bucket[i])\n",
    "    \n",
    "    result = []\n",
    "    for i in range(len(bucket)):\n",
    "        result.extend(bucket[i])\n",
    "    \n",
    "    return result\n",
    "print(BucketSort(random.choices(range(0,6),k=30)))"
   ]
  },
  {
   "cell_type": "markdown",
   "metadata": {},
   "source": [
    "#Quick Sort"
   ]
  },
  {
   "cell_type": "markdown",
   "metadata": {},
   "source": [
    "<video controls src=\"quicksort.mp4\" title=\"quicksort\"></video>"
   ]
  },
  {
   "cell_type": "code",
   "execution_count": 21,
   "metadata": {},
   "outputs": [
    {
     "name": "stdout",
     "output_type": "stream",
     "text": [
      "Original array: "
     ]
    }
   ],
   "source": [
    "import random\n",
    "\n",
    "def quicksort(arr):\n",
    "    if len(arr) <= 1:\n",
    "        return arr\n",
    "    pivot = arr[len(arr) // 2]\n",
    "    left = [x for x in arr if x < pivot]\n",
    "    middle = [x for x in arr if x == pivot]\n",
    "    right = [x for x in arr if x > pivot]\n",
    "    return quicksort(left) + middle + quicksort(right)\n",
    "\n",
    "arr = random.choices(range(1, 101), k=1000000000)\n",
    "print(\"Original array:\", arr)\n",
    "print(\"Sorted array:\", quicksort(arr))"
   ]
  },
  {
   "cell_type": "code",
   "execution_count": null,
   "metadata": {},
   "outputs": [],
   "source": []
  }
 ],
 "metadata": {
  "kernelspec": {
   "display_name": "Python 3",
   "language": "python",
   "name": "python3"
  },
  "language_info": {
   "codemirror_mode": {
    "name": "ipython",
    "version": 3
   },
   "file_extension": ".py",
   "mimetype": "text/x-python",
   "name": "python",
   "nbconvert_exporter": "python",
   "pygments_lexer": "ipython3",
   "version": "3.12.7"
  }
 },
 "nbformat": 4,
 "nbformat_minor": 2
}
