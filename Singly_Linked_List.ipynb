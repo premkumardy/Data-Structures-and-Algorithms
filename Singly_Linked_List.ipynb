{
 "cells": [
  {
   "cell_type": "markdown",
   "metadata": {},
   "source": [
    "Creating a Node creating Class when called the constructor creates a [data,next] node block whiich can be used as a head and it can be linked next to a head as tail."
   ]
  },
  {
   "cell_type": "code",
   "execution_count": 76,
   "metadata": {},
   "outputs": [],
   "source": [
    "class Node:\n",
    "    def __init__(self,data=None,next=None):\n",
    "        self.data = data\n",
    "        self.next = next\n",
    "    "
   ]
  },
  {
   "cell_type": "markdown",
   "metadata": {},
   "source": [
    "def __init__(self):\n",
    "        self.head = None\n",
    "Here in above function creating a variable using constructor to store head position"
   ]
  },
  {
   "cell_type": "code",
   "execution_count": 77,
   "metadata": {},
   "outputs": [],
   "source": [
    "class  LinkedList:\n",
    "    def __init__(self,head=None):\n",
    "        self.head = head\n",
    "    \n",
    "    def print(self):\n",
    "        if not self.head: print(['linked list is empty'])\n",
    "        else:\n",
    "            temp = self.head\n",
    "            while temp is not None:\n",
    "                print(temp.data,end='-->')\n",
    "                temp = temp.next\n",
    "        print()\n",
    "    \n",
    "    def append(self,val=None):\n",
    "        if not self.head: \n",
    "            print(f'no head Data, appending {val} to head')\n",
    "            self.head = Node(val)\n",
    "        else:\n",
    "            temp = self.head\n",
    "            while temp.next is not None:\n",
    "                print(temp.data)\n",
    "                temp = temp.next\n",
    "            temp.next = Node(val)\n",
    "\n",
    "    def pop(self):\n",
    "        if not self.head: \n",
    "            print('no head Data to pop')\n",
    "        elif not self.head.next:\n",
    "            self.head=None\n",
    "        else:\n",
    "            temp = self.head\n",
    "            while temp.next.next is not None:\n",
    "                temp = temp.next\n",
    "            temp.next = None\n",
    "\n",
    "    def reverse(self):\n",
    "        prev,curr = 0,self.head\n",
    "        while curr:\n",
    "            nxt = curr.next\n",
    "            curr.nxt = prev\n",
    "            prev = curr\n",
    "            curr = nxt\n",
    "        self.head = prev\n",
    "        self.print()\n",
    "\n",
    "    def delete(self,val):\n",
    "\n",
    "        curr = self.head\n",
    "        \n",
    "        if not self.head:\n",
    "            return\n",
    "        elif self.head.data == val and not self.head.next:\n",
    "            self.head.data = None\n",
    "        elif self.head.data == val and self.head.next:\n",
    "            self.head = self.head.next\n",
    "        else:\n",
    "            curr = self.head\n",
    "\n",
    "            while curr.next and curr.next.next:\n",
    "                if curr.next.data == val and curr.next.next:\n",
    "                    curr.next = curr.next.next\n",
    "                else:\n",
    "                    curr.next = None\n",
    "                    self.print()\n",
    "                    return\n",
    "                curr = curr.next\n",
    "        self.print()\n",
    "            \n",
    "\n",
    "\n",
    "        \n",
    "\n",
    "                \n",
    "\n",
    "                \n",
    "\n",
    "\n",
    "\n",
    "\n"
   ]
  },
  {
   "cell_type": "code",
   "execution_count": 78,
   "metadata": {},
   "outputs": [
    {
     "name": "stdout",
     "output_type": "stream",
     "text": [
      "no head Data, appending 10 to head\n",
      "10\n",
      "10\n",
      "20\n",
      "10-->20-->30-->40-->\n",
      "no head Data, appending 44 to head\n",
      "44\n",
      "44\n",
      "44\n",
      "no head Data, appending 41 to head\n",
      "41\n",
      "41-->83-->88-->\n"
     ]
    }
   ],
   "source": [
    "L1 = LinkedList()\n",
    "L1.append(10)\n",
    "L1.append(20)\n",
    "L1.append(30)\n",
    "L1.append(40)\n",
    "L1.print()\n",
    "\n",
    "\n",
    "L2 = LinkedList()\n",
    "L2.append(44)\n",
    "L2.append(44)\n",
    "L2.append(46)\n",
    "L2.append(57)\n",
    "\n",
    "L3 = LinkedList()\n",
    "L3.append(41)\n",
    "L3.append(83)\n",
    "L3.append(88)\n",
    "L3.print()\n"
   ]
  },
  {
   "cell_type": "code",
   "execution_count": 79,
   "metadata": {},
   "outputs": [],
   "source": [
    "# Definition for singly-linked list.\n",
    "# class Node:\n",
    "#     def __init__(self, data=0, next=None):\n",
    "#         self.val = data\n",
    "#         self.next = next\n",
    "class Solution:\n",
    "    def mergeTwoLists(self, list1, list2):\n",
    "        node = Node()\n",
    "        tmp = node\n",
    "        while list1 and list2:\n",
    "            if list1.data < list2.data:\n",
    "                tmp.next = Node(list1.data)\n",
    "                list1 = list1.next\n",
    "            else:\n",
    "                tmp.next = Node(list2.data)\n",
    "                list2 = list2.next\n",
    "            tmp = tmp.next\n",
    "\n",
    "        tmp.next = list1 if list1 else list2\n",
    "        \n",
    "        return node.next\n",
    "\n"
   ]
  },
  {
   "cell_type": "code",
   "execution_count": 80,
   "metadata": {},
   "outputs": [
    {
     "name": "stdout",
     "output_type": "stream",
     "text": [
      "orgin list =  [<__main__.Node object at 0x0000022A4F5BE0F0>, <__main__.Node object at 0x0000022A4F7064B0>, <__main__.Node object at 0x0000022A4F707B00>]\n",
      "while looped\n",
      "[<__main__.Node object at 0x0000022A4F5BE0F0>, <__main__.Node object at 0x0000022A4F7064B0>, <__main__.Node object at 0x0000022A4F707B00>]\n",
      "mergedLists = [<__main__.Node object at 0x0000022A4F5BE0F0>]\n",
      "mergedLists = [<__main__.Node object at 0x0000022A4F5BE0F0>, <__main__.Node object at 0x0000022A4F707B00>]\n",
      "while looped\n",
      "[<__main__.Node object at 0x0000022A4F5BE0F0>, <__main__.Node object at 0x0000022A4F707B00>]\n",
      "mergedLists = [<__main__.Node object at 0x0000022A4F5BE0F0>]\n"
     ]
    }
   ],
   "source": [
    "class Solution:\n",
    "    def mergeKLists(self, lists):\n",
    "        if not lists or len(lists) == 0:\n",
    "            return None\n",
    "        print(\"orgin list = \",lists)\n",
    "        while len(lists) > 1:\n",
    "            print(\"while looped\")\n",
    "            print(lists)\n",
    "            mergedLists = []\n",
    "            for i in range(0, len(lists), 2):\n",
    "                l1 = lists[i]\n",
    "                l2 = lists[i + 1] if (i + 1) < len(lists) else None\n",
    "                mergedLists.append(self.mergeList(l1, l2))\n",
    "                print('mergedLists =',mergedLists)\n",
    "            lists = mergedLists\n",
    "        return lists[0]\n",
    "\n",
    "    def mergeList(self, l1, l2):\n",
    "        dummy = Node()\n",
    "        tail = dummy\n",
    "\n",
    "        while l1 and l2:\n",
    "            if l1.data < l2.data:\n",
    "                tail.next = l1\n",
    "                l1 = l1.next\n",
    "            else:\n",
    "                tail.next = l2\n",
    "                l2 = l2.next\n",
    "            tail = tail.next\n",
    "        if l1:\n",
    "            tail.next = l1\n",
    "        if l2:\n",
    "            tail.next = l2\n",
    "        return dummy.next\n",
    "    \n",
    "head = Solution().mergeKLists([L1.head,L2.head,L3.head])\n",
    "New = LinkedList(head = head)"
   ]
  },
  {
   "cell_type": "code",
   "execution_count": 81,
   "metadata": {},
   "outputs": [
    {
     "name": "stdout",
     "output_type": "stream",
     "text": [
      "10-->20-->30-->40-->41-->44-->44-->46-->57-->83-->88-->\n"
     ]
    }
   ],
   "source": [
    "New.print()"
   ]
  },
  {
   "cell_type": "code",
   "execution_count": 84,
   "metadata": {},
   "outputs": [
    {
     "name": "stdout",
     "output_type": "stream",
     "text": [
      "1\n",
      "3\n",
      "5\n",
      "7\n",
      "9\n",
      "11\n"
     ]
    }
   ],
   "source": [
    "for i in range(1,12,2):\n",
    "    print(i)"
   ]
  },
  {
   "cell_type": "code",
   "execution_count": null,
   "metadata": {},
   "outputs": [],
   "source": []
  }
 ],
 "metadata": {
  "kernelspec": {
   "display_name": "Python 3",
   "language": "python",
   "name": "python3"
  },
  "language_info": {
   "codemirror_mode": {
    "name": "ipython",
    "version": 3
   },
   "file_extension": ".py",
   "mimetype": "text/x-python",
   "name": "python",
   "nbconvert_exporter": "python",
   "pygments_lexer": "ipython3",
   "version": "3.12.7"
  }
 },
 "nbformat": 4,
 "nbformat_minor": 2
}
