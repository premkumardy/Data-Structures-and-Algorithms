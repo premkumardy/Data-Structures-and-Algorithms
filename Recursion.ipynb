{
 "cells": [
  {
   "cell_type": "markdown",
   "metadata": {},
   "source": [
    "#Recursion\n",
    "Recursion can be a difficult concept to wrap your head around so don't be discouraged if you don't understand it right away.\n",
    "\n",
    "Simply put, recursion is when a function calls itself, usually with a different input. This is known as a recursive function.\n",
    "\n",
    "Recursive functions can be thought of as functions that breaks down a problem into smaller sub-problems and solves them in reverse order. It's usually possible to convert a recursive function into an iterative one, and vice versa.\n",
    "\n",
    "For some problems an iterative solution can be much more simple to implement than a recursive one, and vice versa.\n",
    "Recursive functions have two parts:\n",
    "\n",
    "The base case.\n",
    "The recursive case.\n",
    "The concept of recursion applies to the real world as well. Consider a box that contains another box, which contains another box, and so on. This is a recursive structure.\n",
    "\n",
    "In this case, the base case would be the smallest box, and the recursive case would be the larger boxes that contain the smaller boxes.\n",
    "\n",
    "\n",
    "There are two types of recursion, one-branch and multi-branch. Let's discuss one-branch recursion first.\n",
    "\n",
    "Let's analyze this. We have our two parts: the base case and the recursive case (the function calling itself).\n",
    "\n",
    "When the code reaches the last line with the initial input of \n",
    "5\n",
    "5, we get: 5 * factorial(4), which starts executing the function again from line 1, only now with input \n",
    "4\n",
    "4, so we get 4 * factorial(3) and then 3 * factorial(2) and lastly 2 * factorial(1) after which the base case is reached.\n",
    "\n",
    "But what happens when the base case is reached? When the function is called with \n",
    "1\n",
    "1 as the input, \n",
    "1\n",
    "1 is returned, and now it can be multiplied by \n",
    "2\n",
    "2, which will result in \n",
    "2\n",
    "2, which is the answer to \n",
    "2\n",
    "!\n",
    "2!. We have only solved the first sub-problem so far. Now, we compute 3 * factorial(2), which results in \n",
    "6\n",
    "6, then 4 * factorial(3), which is \n",
    "24\n",
    "24, and finally 5 * factorial(4), which is \n",
    "120\n",
    "120 - the final answer to \n",
    "5\n",
    "!\n",
    "5!\n",
    "\n",
    "The most important part is that when we trigger the base case, we move back \"up\" the recursion tree because now we have to \"piece\" together the answers to our sub-problems to get to the final solution.\n",
    "\n",
    "The complicated part about this is you have to think about the problem in reverse order.\n",
    "\n",
    "As observed, we took the original problem, factorial(5) and broke it down into smaller sub-problems, and by combining the answer to those sub-problems, we were able to solve the original problem. It is important to note that if there is no base case in recursion, the recursive case would execute forever resulting in a stack overflow error.\n",
    "Time and Space Complexity\n",
    "Time: \n",
    "O\n",
    "(\n",
    "n\n",
    ")\n",
    "O(n)\n",
    "\n",
    "In total, n calls are being made to the factorial function, where each function call is O(1), making the total time complexity \n",
    "\n",
    "\n",
    "While we aren't using any data structures, recursion operates off of an implicit stack, known as the function call stack. That is how we are able to return from one function call to the previous one. Since there are \n",
    "n\n",
    "n recursive calls, there will be \n",
    "n\n",
    "n function calls placed on the stack, which results in \n",
    "O\n",
    "(\n",
    "n\n",
    ")\n",
    "O(n) space.\n",
    "Iteration and Recursion\n",
    "Most recursive algorithms can be written iteratively. The iterative implementation of this is the following:\n",
    "\n",
    "n = 5\n",
    "res = 1\n",
    "while n > 1:\n",
    "    res = res * n\n",
    "    n -= 1\n",
    "In the iterative case, we store our answer in a variable named res and decrement n until n becomes \n",
    "1\n",
    "1.\n",
    "\n",
    "The iterative implementation is much simpler than the recursive one in this case, but that's not always the case. Recursion will be especially useful when we start learning about trees.\n",
    "\n",
    "This solution is also more space efficient since it doesn't require the function call stack.\n"
   ]
  },
  {
   "cell_type": "code",
   "execution_count": 1,
   "metadata": {},
   "outputs": [
    {
     "data": {
      "text/plain": [
       "210"
      ]
     },
     "execution_count": 1,
     "metadata": {},
     "output_type": "execute_result"
    }
   ],
   "source": [
    "#basic sum of n natural numbers recursion\n",
    "def SumOfNnums(n):\n",
    "    if n == 0:\n",
    "        return 0\n",
    "    n = n + SumOfNnums(n-1)\n",
    "    return n\n",
    "SumOfNnums(20)"
   ]
  },
  {
   "cell_type": "code",
   "execution_count": null,
   "metadata": {},
   "outputs": [],
   "source": [
    "#fibonacci number\n",
    "def FibonacciNum(n):\n",
    "\n",
    "    if n == 1:\n",
    "        return 1\n",
    "    n = n * FibonacciNum(n-1)\n",
    "    return n\n",
    "FibonacciNum(10)"
   ]
  },
  {
   "cell_type": "code",
   "execution_count": null,
   "metadata": {},
   "outputs": [],
   "source": [
    "#fibonacci number infinite\n",
    "def FibonacciNum(n):\n",
    "    if n <= 1:\n",
    "        return n\n",
    "    return FibonacciNum(n-1)+FibonacciNum(n-2)\n",
    "\n",
    "   \n",
    "FibonacciNum(20)"
   ]
  },
  {
   "cell_type": "code",
   "execution_count": null,
   "metadata": {},
   "outputs": [],
   "source": [
    "res = 0\n",
    "n = 10\n",
    "c = 1\n",
    "while n >=1:\n",
    "    print(c)\n",
    "    c+= res\n",
    "    res = c\n",
    "    n -= 1\n",
    "\n",
    "print(c)"
   ]
  },
  {
   "cell_type": "code",
   "execution_count": null,
   "metadata": {},
   "outputs": [],
   "source": [
    "\n",
    "# Recursive implementation to calculate the n-th Fibonacci number\n",
    "def fibonacci(n):\n",
    "    # Base case: n = 0 or 1\n",
    "    if n == 1:\n",
    "        return 1\n",
    "    elif n == 0:\n",
    "        return 0\n",
    "\n",
    "    # Recursive case: fib(n) = fib(n - 1) + fib(n - 2)\n",
    "    return fibonacci(n - 1) + fibonacci(n - 2)\n",
    "print(fibonacci(20))"
   ]
  },
  {
   "cell_type": "code",
   "execution_count": null,
   "metadata": {},
   "outputs": [],
   "source": [
    "# fibonacci brute force\n",
    "p , c = 0,1\n",
    "x = 5\n",
    "for i in range(x+1):\n",
    "    print(p)\n",
    "    temp = c\n",
    "    c = c+p\n",
    "    p = temp\n",
    "    "
   ]
  },
  {
   "cell_type": "code",
   "execution_count": 4,
   "metadata": {},
   "outputs": [
    {
     "data": {
      "text/plain": [
       "1"
      ]
     },
     "execution_count": 4,
     "metadata": {},
     "output_type": "execute_result"
    }
   ],
   "source": [
    "#binary search with recursion\n",
    "def BinRecSearch(arr,t,s,e):\n",
    "\n",
    "    if s>e:\n",
    "        return \"Not Found\"\n",
    "    \n",
    "    m = (s+e)//2\n",
    "    if arr[m] == t:\n",
    "        return m\n",
    "    elif t < arr[m]:\n",
    "        return BinRecSearch(arr,t,s,m-1)\n",
    "    else:\n",
    "        return BinRecSearch(arr,t,m+1,e)\n",
    "    \n",
    "x = [x for x in range(55,60)]\n",
    "BinRecSearch(x,56,0,len(x)-1)\n",
    "\n",
    "    \n",
    "\n"
   ]
  },
  {
   "cell_type": "code",
   "execution_count": 2,
   "metadata": {},
   "outputs": [
    {
     "name": "stdout",
     "output_type": "stream",
     "text": [
      "5\n",
      "4\n",
      "3\n",
      "2\n",
      "1\n",
      "1\n",
      "2\n",
      "3\n",
      "4\n",
      "5\n"
     ]
    }
   ],
   "source": [
    "def printNumRev(n):\n",
    "    if n==0:\n",
    "        return 0\n",
    "    print(n)\n",
    "    printNumRev(n-1)\n",
    "    print(n)\n",
    "\n",
    "printNumRev(5)\n"
   ]
  },
  {
   "cell_type": "code",
   "execution_count": 10,
   "metadata": {},
   "outputs": [
    {
     "name": "stdout",
     "output_type": "stream",
     "text": [
      "1\n",
      "2\n",
      "3\n",
      "4\n",
      "5\n"
     ]
    }
   ],
   "source": [
    "def printNum(n):\n",
    "    if n==0:\n",
    "        return 0\n",
    "    \n",
    "    \n",
    "    printNum(n-1)\n",
    "    print(n)\n",
    "    \n",
    "\n",
    "printNum(5)"
   ]
  },
  {
   "cell_type": "code",
   "execution_count": 18,
   "metadata": {},
   "outputs": [
    {
     "name": "stdout",
     "output_type": "stream",
     "text": [
      "5\n",
      "4\n",
      "3\n",
      "2\n",
      "120\n"
     ]
    }
   ],
   "source": [
    "def Factorial(n):\n",
    "    if n <= 1:\n",
    "        return 1\n",
    "        \n",
    "    print(n)\n",
    "    return n*Factorial(n-1)\n",
    "\n",
    "print(Factorial(5))"
   ]
  },
  {
   "cell_type": "code",
   "execution_count": 12,
   "metadata": {},
   "outputs": [
    {
     "name": "stdout",
     "output_type": "stream",
     "text": [
      "120\n"
     ]
    }
   ],
   "source": [
    "print(1*2*3*4*5)"
   ]
  },
  {
   "cell_type": "code",
   "execution_count": 40,
   "metadata": {},
   "outputs": [
    {
     "data": {
      "text/plain": [
       "9"
      ]
     },
     "execution_count": 40,
     "metadata": {},
     "output_type": "execute_result"
    }
   ],
   "source": [
    "def sumOfdigits(n):\n",
    "    if  n == 1:\n",
    "        return 1\n",
    "    return n%10 + sumOfdigits(n//10)\n",
    "\n",
    "sumOfdigits(1035)\n"
   ]
  },
  {
   "cell_type": "code",
   "execution_count": 45,
   "metadata": {},
   "outputs": [
    {
     "name": "stdout",
     "output_type": "stream",
     "text": [
      "5301\n"
     ]
    }
   ],
   "source": [
    "digit = 0\n",
    "def RevOfdigits(n):\n",
    "    if not n:\n",
    "        return\n",
    "    global digit\n",
    "    digit = (digit * 10) + n%10\n",
    "    RevOfdigits(n//10)\n",
    "\n",
    "RevOfdigits(1035)\n",
    "print(digit)"
   ]
  },
  {
   "cell_type": "code",
   "execution_count": 52,
   "metadata": {},
   "outputs": [
    {
     "data": {
      "text/plain": [
       "5301"
      ]
     },
     "execution_count": 52,
     "metadata": {},
     "output_type": "execute_result"
    }
   ],
   "source": [
    "#reverse a digit using recursion\n",
    "def RevOfdigits(n,digit):\n",
    "    if not n:\n",
    "        return digit\n",
    "    digit = (digit * 10) + n%10\n",
    "    return RevOfdigits(n//10,digit)\n",
    "\n",
    "RevOfdigits(1035,0)"
   ]
  },
  {
   "cell_type": "code",
   "execution_count": 8,
   "metadata": {},
   "outputs": [
    {
     "data": {
      "text/plain": [
       "2"
      ]
     },
     "execution_count": 8,
     "metadata": {},
     "output_type": "execute_result"
    }
   ],
   "source": [
    "#count of zeros with recursion\n",
    "def zeroCount(n,c):\n",
    "    if n == 0:\n",
    "        return 1 if c == 0 else c\n",
    "    if n%10 == 0:\n",
    "        c+=1\n",
    "    return zeroCount(n//10,c)\n",
    "\n",
    "zeroCount(9090,0)"
   ]
  },
  {
   "cell_type": "markdown",
   "metadata": {},
   "source": [
    "1342. Number of Steps to Reduce a Number to Zero\n",
    "Easy\n",
    "Topics\n",
    "Companies\n",
    "Hint\n",
    "Given an integer num, return the number of steps to reduce it to zero.\n",
    "\n",
    "In one step, if the current number is even, you have to divide it by 2, otherwise, you have to subtract 1 from it.\n",
    "\n",
    " \n",
    "\n",
    "Example 1:\n",
    "\n",
    "Input: num = 14\n",
    "Output: 6\n",
    "Explanation: \n",
    "Step 1) 14 is even; divide by 2 and obtain 7. \n",
    "Step 2) 7 is odd; subtract 1 and obtain 6.\n",
    "Step 3) 6 is even; divide by 2 and obtain 3. \n",
    "Step 4) 3 is odd; subtract 1 and obtain 2. \n",
    "Step 5) 2 is even; divide by 2 and obtain 1. \n",
    "Step 6) 1 is odd; subtract 1 and obtain 0.\n",
    "Example 2:\n",
    "\n",
    "Input: num = 8\n",
    "Output: 4\n",
    "Explanation: \n",
    "Step 1) 8 is even; divide by 2 and obtain 4. \n",
    "Step 2) 4 is even; divide by 2 and obtain 2. \n",
    "Step 3) 2 is even; divide by 2 and obtain 1. \n",
    "Step 4) 1 is odd; subtract 1 and obtain 0.\n",
    "Example 3:\n",
    "\n",
    "Input: num = 123\n",
    "Output: 12"
   ]
  },
  {
   "cell_type": "code",
   "execution_count": 9,
   "metadata": {},
   "outputs": [],
   "source": [
    "class Solution(object):\n",
    "\n",
    "    def numberOfSteps(self, num,c=0):\n",
    "        \"\"\"\n",
    "        :type num: int\n",
    "        :rtype: int\n",
    "        \"\"\"\n",
    "        if num == 0:\n",
    "            return c\n",
    "        if num&1: \n",
    "            return self.numberOfSteps(num-1,c+1)\n",
    "        else: \n",
    "            return self.numberOfSteps(num//2,c+1)"
   ]
  }
 ],
 "metadata": {
  "kernelspec": {
   "display_name": "Python 3",
   "language": "python",
   "name": "python3"
  },
  "language_info": {
   "codemirror_mode": {
    "name": "ipython",
    "version": 3
   },
   "file_extension": ".py",
   "mimetype": "text/x-python",
   "name": "python",
   "nbconvert_exporter": "python",
   "pygments_lexer": "ipython3",
   "version": "3.13.7"
  }
 },
 "nbformat": 4,
 "nbformat_minor": 2
}
