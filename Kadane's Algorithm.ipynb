{
 "cells": [
  {
   "cell_type": "markdown",
   "id": "6bb74a82",
   "metadata": {},
   "source": [
    "Maximum Subarray\n",
    "Solved \n",
    "Given an array of integers nums, find the subarray with the largest sum and return the sum.\n",
    "\n",
    "A subarray is a contiguous non-empty sequence of elements within an array.\n",
    "\n",
    "Example 1:\n",
    "\n",
    "Input: nums = [2,-3,4,-2,2,1,-1,4]\n",
    "\n",
    "Output: 8\n",
    "Explanation: The subarray [4,-2,2,1,-1,4] has the largest sum 8.\n",
    "\n",
    "Example 2:\n",
    "\n",
    "Input: nums = [-1]\n",
    "\n",
    "Output: -1\n",
    "Constraints:\n",
    "\n",
    "1 <= nums.length <= 1000\n",
    "-1000 <= nums[i] <= 1000\n"
   ]
  },
  {
   "cell_type": "code",
   "execution_count": 17,
   "id": "fa8d502c",
   "metadata": {},
   "outputs": [],
   "source": [
    "#brute Force\n",
    "# find maximum value of continuous sum\n",
    "def MaxConSum(lst):\n",
    "    maxsum = lst[0]\n",
    "    for i in range(0,len(lst)):\n",
    "        currsum = 0\n",
    "        for j in range(i,len(lst)):\n",
    "            currsum += lst[j]\n",
    "            maxsum = max(currsum,maxsum)\n",
    "    return maxsum\n",
    "        "
   ]
  },
  {
   "cell_type": "code",
   "execution_count": 20,
   "id": "81e481d0",
   "metadata": {},
   "outputs": [
    {
     "data": {
      "text/plain": [
       "8"
      ]
     },
     "execution_count": 20,
     "metadata": {},
     "output_type": "execute_result"
    }
   ],
   "source": [
    "#Optimized using Kadan's algorithm\n",
    "def maxSubArray(nums):\n",
    "    maxSub, curSum = nums[0], 0\n",
    "    for num in nums:\n",
    "        if curSum < 0:\n",
    "            curSum = 0\n",
    "        curSum += num\n",
    "        maxSub = max(maxSub, curSum)\n",
    "    return maxSub\n",
    "nums = [2,-3,4,-2,2,1,-1,4]\n",
    "maxSubArray(nums)"
   ]
  },
  {
   "cell_type": "code",
   "execution_count": null,
   "id": "abf79018",
   "metadata": {},
   "outputs": [],
   "source": []
  }
 ],
 "metadata": {
  "kernelspec": {
   "display_name": "Python 3",
   "language": "python",
   "name": "python3"
  },
  "language_info": {
   "codemirror_mode": {
    "name": "ipython",
    "version": 3
   },
   "file_extension": ".py",
   "mimetype": "text/x-python",
   "name": "python",
   "nbconvert_exporter": "python",
   "pygments_lexer": "ipython3",
   "version": "3.13.3"
  }
 },
 "nbformat": 4,
 "nbformat_minor": 5
}
