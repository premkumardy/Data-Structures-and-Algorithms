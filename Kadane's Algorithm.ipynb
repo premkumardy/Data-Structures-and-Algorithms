{
 "cells": [
  {
   "cell_type": "markdown",
   "id": "ae3fb46f",
   "metadata": {},
   "source": [
    "#Kadane's Algorithm\n",
    "\n",
    "Kadane's Algorithm is usefull in finding maximum continuous subarray\n",
    "\n",
    "the idea is that we will have two variables (maxSum and current sum), we wan to iterate through the array and we add the i value to current and compare if i > cursum, if yes it means that elements before i are negative and not going to contribute in further iterative additions, so we start our current sum starting from i and compare with maxsum, if cursum is > maxsum, then maxsum = cursum.\n",
    "\n",
    "throughout iteration we will calculate continus subarrays and compare with maxsum and update it\n",
    "\n",
    "maxsum = nums[0]\n",
    "cursum = 0\n",
    "for i in nums:\n",
    "    cursum += i\n",
    "    if i > cursum:\n",
    "        cursum = i #this is the part where we the chopping off non contributing things is happening\n",
    "    maxsum = max(cursum,maxsum)\n"
   ]
  },
  {
   "cell_type": "code",
   "execution_count": null,
   "id": "a34e388c",
   "metadata": {},
   "outputs": [],
   "source": []
  },
  {
   "cell_type": "markdown",
   "id": "6bb74a82",
   "metadata": {},
   "source": [
    "Maximum Subarray\n",
    "Solved \n",
    "Given an array of integers nums, find the subarray with the largest sum and return the sum.\n",
    "\n",
    "A subarray is a contiguous non-empty sequence of elements within an array.\n",
    "\n",
    "Example 1:\n",
    "\n",
    "Input: nums = [2,-3,4,-2,2,1,-1,4]\n",
    "\n",
    "Output: 8\n",
    "Explanation: The subarray [4,-2,2,1,-1,4] has the largest sum 8.\n",
    "\n",
    "Example 2:\n",
    "\n",
    "Input: nums = [-1]\n",
    "\n",
    "Output: -1\n",
    "Constraints:\n",
    "\n",
    "1 <= nums.length <= 1000\n",
    "-1000 <= nums[i] <= 1000\n"
   ]
  },
  {
   "cell_type": "code",
   "execution_count": 17,
   "id": "fa8d502c",
   "metadata": {},
   "outputs": [],
   "source": [
    "#brute Force\n",
    "# find maximum value of continuous sum\n",
    "def MaxConSum(lst):\n",
    "    maxsum = lst[0]\n",
    "    for i in range(0,len(lst)):\n",
    "        currsum = 0\n",
    "        for j in range(i,len(lst)):\n",
    "            currsum += lst[j]\n",
    "            maxsum = max(currsum,maxsum)\n",
    "    return maxsum\n",
    "        "
   ]
  },
  {
   "cell_type": "code",
   "execution_count": 20,
   "id": "81e481d0",
   "metadata": {},
   "outputs": [
    {
     "data": {
      "text/plain": [
       "8"
      ]
     },
     "execution_count": 20,
     "metadata": {},
     "output_type": "execute_result"
    }
   ],
   "source": [
    "#Optimized using Kadan's algorithm\n",
    "def maxSubArray(nums):\n",
    "    maxSub, curSum = nums[0], 0\n",
    "    for num in nums:\n",
    "        if curSum < 0:\n",
    "            curSum = 0\n",
    "        curSum += num\n",
    "        maxSub = max(maxSub, curSum)\n",
    "    return maxSub\n",
    "nums = [2,-3,4,-2,2,1,-1,4]\n",
    "maxSubArray(nums)"
   ]
  },
  {
   "cell_type": "markdown",
   "id": "de3c46a6",
   "metadata": {},
   "source": [
    "918. Maximum Sum Circular Subarray\n",
    "Solved\n",
    "Medium\n",
    "Topics\n",
    "premium lock icon\n",
    "Companies\n",
    "Hint\n",
    "Given a circular integer array nums of length n, return the maximum possible sum of a non-empty subarray of nums.\n",
    "\n",
    "A circular array means the end of the array connects to the beginning of the array. Formally, the next element of nums[i] is nums[(i + 1) % n] and the previous element of nums[i] is nums[(i - 1 + n) % n].\n",
    "\n",
    "A subarray may only include each element of the fixed buffer nums at most once. Formally, for a subarray nums[i], nums[i + 1], ..., nums[j], there does not exist i <= k1, k2 <= j with k1 % n == k2 % n.\n",
    "\n",
    " \n",
    "\n",
    "Example 1:\n",
    "\n",
    "Input: nums = [1,-2,3,-2]\n",
    "Output: 3\n",
    "Explanation: Subarray [3] has maximum sum 3.\n",
    "Example 2:\n",
    "\n",
    "Input: nums = [5,-3,5]\n",
    "Output: 10\n",
    "Explanation: Subarray [5,5] has maximum sum 5 + 5 = 10.\n",
    "Example 3:\n",
    "\n",
    "Input: nums = [-3,-2,-3]\n",
    "Output: -2\n",
    "Explanation: Subarray [-2] has maximum sum -2."
   ]
  },
  {
   "cell_type": "code",
   "execution_count": 1,
   "id": "abf79018",
   "metadata": {},
   "outputs": [
    {
     "data": {
      "text/plain": [
       "3"
      ]
     },
     "execution_count": 1,
     "metadata": {},
     "output_type": "execute_result"
    }
   ],
   "source": [
    "class Solution(object):\n",
    "    def maxSubarraySumCircular(self, nums):\n",
    "        \"\"\"\n",
    "        :type nums: List[int]\n",
    "        :rtype: int\n",
    "        \"\"\"\n",
    "        gmax,gmin,curmax,curmin,total = nums[0],nums[0],0,0,0\n",
    "        for i in nums:\n",
    "            curmax = max(curmax+i,i)\n",
    "            curmin = min(curmin+i,i)\n",
    "            gmax = max(gmax,curmax)\n",
    "            gmin = min(gmin,curmin)\n",
    "            total += i\n",
    "        \n",
    "        if gmax < 0:\n",
    "            return gmax\n",
    "        return max(total - gmin,gmax)\n",
    "    \n",
    "Solution().maxSubarraySumCircular([1,-2,3,-2])"
   ]
  }
 ],
 "metadata": {
  "kernelspec": {
   "display_name": "Python 3",
   "language": "python",
   "name": "python3"
  },
  "language_info": {
   "codemirror_mode": {
    "name": "ipython",
    "version": 3
   },
   "file_extension": ".py",
   "mimetype": "text/x-python",
   "name": "python",
   "nbconvert_exporter": "python",
   "pygments_lexer": "ipython3",
   "version": "3.13.3"
  }
 },
 "nbformat": 4,
 "nbformat_minor": 5
}
