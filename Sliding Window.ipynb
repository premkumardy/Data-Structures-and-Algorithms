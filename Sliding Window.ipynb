{
 "cells": [
  {
   "cell_type": "markdown",
   "id": "1e05a4fd",
   "metadata": {},
   "source": [
    "#Sliding Window\n",
    "\n",
    "As the name suggests we slide through a array with a pecific window size K to calcualte in a sub array.\n",
    "\n"
   ]
  },
  {
   "cell_type": "markdown",
   "id": "ce4ab2b8",
   "metadata": {},
   "source": [
    "Contains Duplicate II\n",
    "You are given an integer array nums and an integer k, return true if there are two distinct indices i and j in the array such that nums[i] == nums[j] and abs(i - j) <= k, otherwise return false.\n",
    "\n",
    "Example 1:\n",
    "\n",
    "Input: nums = [1,2,3,1], k = 3\n",
    "\n",
    "Output: true\n",
    "Example 2:\n",
    "\n",
    "Input: nums = [2,1,2], k = 1\n",
    "\n",
    "Output: false"
   ]
  },
  {
   "cell_type": "code",
   "execution_count": 29,
   "id": "c74ad691",
   "metadata": {},
   "outputs": [
    {
     "data": {
      "text/plain": [
       "False"
      ]
     },
     "execution_count": 29,
     "metadata": {},
     "output_type": "execute_result"
    }
   ],
   "source": [
    "def ContainsDuplicate(nums,k):\n",
    "\n",
    "    for L in range(len(nums)):\n",
    "        for R in range(L+1,min(len(nums),L+k+1)):\n",
    "            if nums[L] == nums[R]:\n",
    "                return True\n",
    "    return False\n",
    "ContainsDuplicate(nums = [1,2,3,0], k = 4)\n",
    "ContainsDuplicate(nums=[2,1,2],k=1)\n",
    "\n",
    "\n"
   ]
  },
  {
   "cell_type": "markdown",
   "id": "eab1cd6e",
   "metadata": {},
   "source": [
    "1343. Number of Sub-arrays of Size K and Average Greater than or Equal to Threshold\n",
    "\n",
    "Given an array of integers arr and two integers k and threshold, return the number of sub-arrays of size k and average greater than or equal to threshold.\n",
    "\n",
    " \n",
    "\n",
    "Example 1:\n",
    "\n",
    "Input: arr = [2,2,2,2,5,5,5,8], k = 3, threshold = 4\n",
    "Output: 3\n",
    "Explanation: Sub-arrays [2,5,5],[5,5,5] and [5,5,8] have averages 4, 5 and 6 respectively. All other sub-arrays of size 3 have averages less than 4 (the threshold).\n",
    "Example 2:\n",
    "\n",
    "Input: arr = [11,13,17,23,29,31,7,5,2,3], k = 3, threshold = 5\n",
    "Output: 6\n",
    "Explanation: The first 6 sub-arrays of size 3 have averages greater than 5. Note that averages are not integers.\n",
    " "
   ]
  },
  {
   "cell_type": "code",
   "execution_count": 2,
   "id": "d530f4cc",
   "metadata": {},
   "outputs": [
    {
     "data": {
      "text/plain": [
       "3"
      ]
     },
     "execution_count": 2,
     "metadata": {},
     "output_type": "execute_result"
    }
   ],
   "source": [
    "def numOfSubarrays(nums,k,threshold):\n",
    "    count = 0\n",
    "    CurSum = sum(nums[:k-1])\n",
    "    for L in range(0,len(nums)-k+1):\n",
    "        CurSum += nums[L+k-1]\n",
    "        if CurSum//k >= threshold:\n",
    "            count += 1\n",
    "        CurSum -= nums[L]\n",
    "        \n",
    "    return count\n",
    "\n",
    "    \n",
    "numOfSubarrays([2,2,2,2,5,5,5,8], k = 3, threshold = 4)\n",
    "\n",
    "\n",
    "\n"
   ]
  },
  {
   "cell_type": "markdown",
   "id": "dd09b205",
   "metadata": {},
   "source": [
    "#Sliding Window Variable length"
   ]
  },
  {
   "cell_type": "code",
   "execution_count": null,
   "id": "77c75423",
   "metadata": {},
   "outputs": [
    {
     "data": {
      "text/plain": [
       "3"
      ]
     },
     "execution_count": 6,
     "metadata": {},
     "output_type": "execute_result"
    },
    {
     "ename": "",
     "evalue": "",
     "output_type": "error",
     "traceback": [
      "\u001b[1;31mThe Kernel crashed while executing code in the current cell or a previous cell. \n",
      "\u001b[1;31mPlease review the code in the cell(s) to identify a possible cause of the failure. \n",
      "\u001b[1;31mClick <a href='https://aka.ms/vscodeJupyterKernelCrash'>here</a> for more info. \n",
      "\u001b[1;31mView Jupyter <a href='command:jupyter.viewOutput'>log</a> for further details."
     ]
    }
   ],
   "source": []
  },
  {
   "cell_type": "markdown",
   "id": "649b1bac",
   "metadata": {},
   "source": [
    "424. Longest Repeating Character Replacement\n",
    "Solved\n",
    "Medium\n",
    "Topics\n",
    "premium lock icon\n",
    "Companies\n",
    "You are given a string s and an integer k. You can choose any character of the string and change it to any other uppercase English character. You can perform this operation at most k times.\n",
    "\n",
    "Return the length of the longest substring containing the same letter you can get after performing the above operations.\n",
    "\n",
    " \n",
    "\n",
    "Example 1:\n",
    "\n",
    "Input: s = \"ABAB\", k = 2\n",
    "Output: 4\n",
    "Explanation: Replace the two 'A's with two 'B's or vice versa.\n",
    "Example 2:\n",
    "\n",
    "Input: s = \"AABABBA\", k = 1\n",
    "Output: 4\n",
    "Explanation: Replace the one 'A' in the middle with 'B' and form \"AABBBBA\".\n",
    "The substring \"BBBB\" has the longest repeating letters, which is 4.\n",
    "There may exists other ways to achieve this answer too."
   ]
  },
  {
   "cell_type": "code",
   "execution_count": null,
   "id": "b0e5f063",
   "metadata": {},
   "outputs": [],
   "source": [
    "#time complexity of O(26*n) --> O(n)\n",
    "class Solution(object):\n",
    "    def characterReplacement(self, s, k):\n",
    "        \"\"\"\n",
    "        :type s: str\n",
    "        :type k: int\n",
    "        :rtype: int\n",
    "        \"\"\"\n",
    "        l,maxLength,hm = 0,0,{}\n",
    "        for r in range(len(s)):\n",
    "            hm[s[r]] = 1 + hm.get(s[r],0)\n",
    "            while (r-l+1) - max(hm.values()) > k:\n",
    "                hm[s[l]] -= 1\n",
    "                l += 1\n",
    "            maxLength = max(maxLength,r-l+1)\n",
    "        return maxLength\n",
    "            \n",
    "\n",
    "\n",
    "\n",
    "\n",
    "# time complexity optimised O(n)\n",
    "class Solution(object):\n",
    "    def characterReplacement(self, s, k):\n",
    "        \"\"\"\n",
    "        :type s: str\n",
    "        :type k: int\n",
    "        :rtype: int\n",
    "        \"\"\"\n",
    "        l,maxLength,hm,maxf = 0,0,{},0\n",
    "        for r in range(len(s)):\n",
    "            hm[s[r]] = 1 + hm.get(s[r],0)\n",
    "            maxf = max(maxf,hm[s[r]])\n",
    "            while (r-l+1) - maxf > k:\n",
    "                hm[s[l]] -= 1\n",
    "                l += 1\n",
    "            maxLength = max(maxLength,r-l+1)\n",
    "        return maxLength\n",
    "            "
   ]
  },
  {
   "cell_type": "code",
   "execution_count": null,
   "id": "b6fe4fdb",
   "metadata": {},
   "outputs": [],
   "source": []
  }
 ],
 "metadata": {
  "kernelspec": {
   "display_name": "Python 3",
   "language": "python",
   "name": "python3"
  },
  "language_info": {
   "codemirror_mode": {
    "name": "ipython",
    "version": 3
   },
   "file_extension": ".py",
   "mimetype": "text/x-python",
   "name": "python",
   "nbconvert_exporter": "python",
   "pygments_lexer": "ipython3",
   "version": "3.13.3"
  }
 },
 "nbformat": 4,
 "nbformat_minor": 5
}
