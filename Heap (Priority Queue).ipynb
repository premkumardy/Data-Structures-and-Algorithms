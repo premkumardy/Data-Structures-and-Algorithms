{
 "cells": [
  {
   "cell_type": "markdown",
   "id": "87da8f1c",
   "metadata": {},
   "source": [
    "#Heap implementation\n",
    "\n",
    "i = index of the current node\n",
    "left child = heap[2*i]\n",
    "right child = heap[2*i+1]\n",
    "parrent = heap[i//2]\n"
   ]
  },
  {
   "cell_type": "code",
   "execution_count": null,
   "id": "571dfbef",
   "metadata": {},
   "outputs": [],
   "source": [
    "class Heap:\n",
    "    def __init__(self):\n",
    "        self.heap = [0]"
   ]
  },
  {
   "cell_type": "markdown",
   "id": "74550d19",
   "metadata": {},
   "source": [
    "#PUSHing in Heap / Priority queue\n",
    "\n"
   ]
  },
  {
   "cell_type": "code",
   "execution_count": 12,
   "id": "2e4997f4",
   "metadata": {},
   "outputs": [],
   "source": [
    "class Heap:\n",
    "    def __init__(self):\n",
    "        self.heap = [0]\n",
    "\n",
    "    def push(self,val):\n",
    "        if len(self.heap) == 1:\n",
    "            self.heap.append(val)\n",
    "            return\n",
    "        \n",
    "        y = self.heap\n",
    "        self.heap.append(val)\n",
    "        i = len(self.heap)-1\n",
    "\n",
    "        while i > 1 and self.heap[i] < self.heap[i//2]:\n",
    "            self.heap[i],self.heap[i//2] = self.heap[i//2],self.heap[i]\n",
    "            i = i//2\n",
    "\n",
    "        return\n",
    "\n",
    "heap1 = Heap()\n",
    "import random\n",
    "x =random.choices(range(-123,123),k=15)\n",
    "for i in x:\n",
    "    heap1.push(i)\n"
   ]
  },
  {
   "cell_type": "code",
   "execution_count": 7,
   "id": "7f350d92",
   "metadata": {},
   "outputs": [],
   "source": [
    "heap1 = Heap()\n",
    "import random\n",
    "x =random.choices(range(-123,123),k=15)\n",
    "for i in x:\n",
    "    heap1.push(i)"
   ]
  },
  {
   "cell_type": "code",
   "execution_count": 8,
   "id": "633b193e",
   "metadata": {},
   "outputs": [
    {
     "data": {
      "text/plain": [
       "[0, -107, -92, -37, -66, -70, -24, 14, 36, -60, -32, -60, 105, -9, 71, 115]"
      ]
     },
     "execution_count": 8,
     "metadata": {},
     "output_type": "execute_result"
    }
   ],
   "source": [
    "heap1.heap"
   ]
  },
  {
   "cell_type": "code",
   "execution_count": null,
   "id": "c122e262",
   "metadata": {},
   "outputs": [],
   "source": []
  }
 ],
 "metadata": {
  "kernelspec": {
   "display_name": "Python 3",
   "language": "python",
   "name": "python3"
  },
  "language_info": {
   "codemirror_mode": {
    "name": "ipython",
    "version": 3
   },
   "file_extension": ".py",
   "mimetype": "text/x-python",
   "name": "python",
   "nbconvert_exporter": "python",
   "pygments_lexer": "ipython3",
   "version": "3.13.3"
  }
 },
 "nbformat": 4,
 "nbformat_minor": 5
}
