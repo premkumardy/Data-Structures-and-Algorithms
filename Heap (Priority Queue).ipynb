{
 "cells": [
  {
   "cell_type": "markdown",
   "id": "87da8f1c",
   "metadata": {},
   "source": [
    "#Heap implementation\n",
    "\n",
    "i = index of the current node\n",
    "left child = heap[2*i]\n",
    "right child = heap[2*i+1]\n",
    "parrent = heap[i//2]\n"
   ]
  },
  {
   "cell_type": "code",
   "execution_count": null,
   "id": "571dfbef",
   "metadata": {},
   "outputs": [],
   "source": [
    "class Heap:\n",
    "    def __init__(self):\n",
    "        self.heap = [0]"
   ]
  },
  {
   "cell_type": "code",
   "execution_count": null,
   "id": "2e4997f4",
   "metadata": {},
   "outputs": [
    {
     "data": {
      "text/plain": [
       "[0, -121, -99, -52, -58, -95, -38, -25, 82, 34, 83, 2, -19, 68, 17, 94]"
      ]
     },
     "execution_count": 63,
     "metadata": {},
     "output_type": "execute_result"
    }
   ],
   "source": [
    "#HEAP PUSH, HEAP POP, HEAPIFY\n",
    "class Heap:\n",
    "    def __init__(self):\n",
    "        self.heap = [0]\n",
    "\n",
    "    def push(self,val):\n",
    "        self.heap.append(val)\n",
    "        i = len(self.heap)-1\n",
    "\n",
    "        while i > 1 and self.heap[i] < self.heap[i//2]:\n",
    "            self.heap[i],self.heap[i//2] = self.heap[i//2],self.heap[i]\n",
    "            i = i//2\n",
    "        return\n",
    "    \n",
    "    def pop(self):\n",
    "        if len(self.heap) == 1:\n",
    "            return None\n",
    "        if len(self.heap) == 2:\n",
    "            return self.heap.pop()\n",
    "        \n",
    "        \n",
    "        min_Val = self.heap[1]\n",
    "        heap[1] = self.heap.pop()\n",
    "\n",
    "        i = 1\n",
    "\n",
    "        while 2*i < len(self.heap):\n",
    "            if 2*i+1 < len(self.heap) and self.heap[2*i+1] < self.heap[2*i] and self.heap[2*i+1] < self.heap[i]:\n",
    "                self.heap[2*i+1],self.heap[i] = self.heap[i],self.heap[2*i+1]\n",
    "                i = 2*i+1\n",
    "            elif self.heap[2*i] < self.heap[2*i+1]  and self.heap[2*i] < self.heap[i]:\n",
    "                self.heap[2*i],self.heap[i] = self.heap[i],self.heap[2*i]\n",
    "                i = 2*i\n",
    "            else:\n",
    "                break\n",
    "        return min_Val\n",
    "\n",
    "\n",
    "    def heapify(self,arr):\n",
    "        \n",
    "        self.heap = [0] + arr\n",
    "\n",
    "        curr = (len(self.heap)-1)//2\n",
    "\n",
    "        while curr > 0:\n",
    "            i = curr\n",
    "            while 2*i < len(self.heap):\n",
    "                if 2*i+1 < len(self.heap) and self.heap[2*i+1] < self.heap[2*i] and self.heap[2*i+1] < self.heap[i]:\n",
    "                    self.heap[2*i+1],self.heap[i] = self.heap[i],self.heap[2*i+1]\n",
    "                    i =2*i+1\n",
    "                elif self.heap[2*i] < self.heap[2*i+1]  and self.heap[2*i] < self.heap[i]:\n",
    "                    self.heap[2*i],self.heap[i] = self.heap[i],self.heap[2*i]\n",
    "                    i = 2*i\n",
    "                else:\n",
    "                    break\n",
    "            curr -= 1\n",
    "        return  \n",
    "    \n",
    "    #HEAP SORT\n",
    "    def heapsort(self, arr):\n",
    "        self.heapify(arr)\n",
    "        sorted_arr = []\n",
    "        while len(self.heap) > 1:\n",
    "            sorted_arr.append(self.pop())\n",
    "        return sorted_arr\n",
    "    \n",
    "        \n",
    "heap1 = Heap()\n",
    "import random\n",
    "x =random.choices(range(-123,123),k=15)\n",
    "for i in x:\n",
    "    heap1.push(i)\n",
    "heap1.heap"
   ]
  },
  {
   "cell_type": "code",
   "execution_count": 64,
   "id": "7f350d92",
   "metadata": {},
   "outputs": [
    {
     "data": {
      "text/plain": [
       "[0, -120, -114, -34, -18, -59, -69, -69, 47, 103, 79, 115, 59, -28, 69, 82]"
      ]
     },
     "execution_count": 64,
     "metadata": {},
     "output_type": "execute_result"
    }
   ],
   "source": [
    "\n",
    "heap1.heapify(random.choices(range(-123,123),k=15))\n",
    "heap1.heap"
   ]
  },
  {
   "cell_type": "code",
   "execution_count": 65,
   "id": "c122e262",
   "metadata": {},
   "outputs": [
    {
     "ename": "NameError",
     "evalue": "name 'heap' is not defined",
     "output_type": "error",
     "traceback": [
      "\u001b[31m---------------------------------------------------------------------------\u001b[39m",
      "\u001b[31mNameError\u001b[39m                                 Traceback (most recent call last)",
      "\u001b[36mCell\u001b[39m\u001b[36m \u001b[39m\u001b[32mIn[65]\u001b[39m\u001b[32m, line 1\u001b[39m\n\u001b[32m----> \u001b[39m\u001b[32m1\u001b[39m \u001b[43mheap1\u001b[49m\u001b[43m.\u001b[49m\u001b[43mheapsort\u001b[49m\u001b[43m(\u001b[49m\u001b[43mrandom\u001b[49m\u001b[43m.\u001b[49m\u001b[43mchoices\u001b[49m\u001b[43m(\u001b[49m\u001b[38;5;28;43mrange\u001b[39;49m\u001b[43m(\u001b[49m\u001b[43m-\u001b[49m\u001b[32;43m123\u001b[39;49m\u001b[43m,\u001b[49m\u001b[32;43m123\u001b[39;49m\u001b[43m)\u001b[49m\u001b[43m,\u001b[49m\u001b[43mk\u001b[49m\u001b[43m=\u001b[49m\u001b[32;43m15\u001b[39;49m\u001b[43m)\u001b[49m\u001b[43m)\u001b[49m\n",
      "\u001b[36mCell\u001b[39m\u001b[36m \u001b[39m\u001b[32mIn[63]\u001b[39m\u001b[32m, line 64\u001b[39m, in \u001b[36mHeap.heapsort\u001b[39m\u001b[34m(self, arr)\u001b[39m\n\u001b[32m     62\u001b[39m sorted_arr = []\n\u001b[32m     63\u001b[39m \u001b[38;5;28;01mwhile\u001b[39;00m \u001b[38;5;28mlen\u001b[39m(\u001b[38;5;28mself\u001b[39m.heap) > \u001b[32m1\u001b[39m:\n\u001b[32m---> \u001b[39m\u001b[32m64\u001b[39m     sorted_arr.append(\u001b[38;5;28;43mself\u001b[39;49m\u001b[43m.\u001b[49m\u001b[43mpop\u001b[49m\u001b[43m(\u001b[49m\u001b[43m)\u001b[49m)\n\u001b[32m     66\u001b[39m \u001b[38;5;28;01mreturn\u001b[39;00m sorted_arr\n",
      "\u001b[36mCell\u001b[39m\u001b[36m \u001b[39m\u001b[32mIn[63]\u001b[39m\u001b[32m, line 23\u001b[39m, in \u001b[36mHeap.pop\u001b[39m\u001b[34m(self)\u001b[39m\n\u001b[32m     19\u001b[39m     \u001b[38;5;28;01mreturn\u001b[39;00m \u001b[38;5;28mself\u001b[39m.heap.pop()\n\u001b[32m     22\u001b[39m min_Val = \u001b[38;5;28mself\u001b[39m.heap[\u001b[32m1\u001b[39m]\n\u001b[32m---> \u001b[39m\u001b[32m23\u001b[39m \u001b[43mheap\u001b[49m[\u001b[32m1\u001b[39m] = \u001b[38;5;28mself\u001b[39m.heap.pop()\n\u001b[32m     25\u001b[39m i = \u001b[32m1\u001b[39m\n\u001b[32m     27\u001b[39m \u001b[38;5;28;01mwhile\u001b[39;00m \u001b[32m2\u001b[39m*i < \u001b[38;5;28mlen\u001b[39m(\u001b[38;5;28mself\u001b[39m.heap):\n",
      "\u001b[31mNameError\u001b[39m: name 'heap' is not defined"
     ]
    }
   ],
   "source": [
    "heap1.heapsort(random.choices(range(-123,123),k=15))"
   ]
  },
  {
   "cell_type": "markdown",
   "id": "39bb42fd",
   "metadata": {},
   "source": [
    "Last Stone Weight\n",
    "You are given an array of integers stones where stones[i] represents the weight of the ith stone.\n",
    "\n",
    "We want to run a simulation on the stones as follows:\n",
    "\n",
    "At each step we choose the two heaviest stones, with weight x and y and smash them togethers\n",
    "If x == y, both stones are destroyed\n",
    "If x < y, the stone of weight x is destroyed, and the stone of weight y has new weight y - x.\n",
    "Continue the simulation until there is no more than one stone remaining.\n",
    "\n",
    "Return the weight of the last remaining stone or return 0 if none remain.\n",
    "\n",
    "Example 1:\n",
    "\n",
    "Input: stones = [2,3,6,2,4]\n",
    "\n",
    "Output: 1\n",
    "Explanation:\n",
    "We smash 6 and 4 and are left with a 2, so the array becomes [2,3,2,2].\n",
    "We smash 3 and 2 and are left with a 1, so the array becomes [1,2,2].\n",
    "We smash 2 and 2, so the array becomes [1].\n",
    "\n",
    "Example 2:\n",
    "\n",
    "Input: stones = [1,2]\n",
    "\n",
    "Output: 1"
   ]
  },
  {
   "cell_type": "code",
   "execution_count": 14,
   "id": "909c9741",
   "metadata": {},
   "outputs": [
    {
     "data": {
      "text/plain": [
       "1"
      ]
     },
     "execution_count": 14,
     "metadata": {},
     "output_type": "execute_result"
    }
   ],
   "source": [
    "import random\n",
    "import heapq\n",
    "def lastStoneWeight(stones):\n",
    "    stones = [-s for s in stones]\n",
    "    heapq.heapify(stones)\n",
    "    while len(stones) > 1:\n",
    "        first = heapq.heappop(stones)\n",
    "        second = heapq.heappop(stones)\n",
    "        if second > first:\n",
    "            heapq.heappush(stones, second-first)\n",
    "\n",
    "    stones.append(0)\n",
    "    return abs(stones[0])\n",
    "lastStoneWeight(stones = [2,3,6,2,4])"
   ]
  },
  {
   "cell_type": "code",
   "execution_count": null,
   "id": "866a85ce",
   "metadata": {},
   "outputs": [],
   "source": []
  },
  {
   "cell_type": "code",
   "execution_count": null,
   "id": "df037590",
   "metadata": {},
   "outputs": [],
   "source": []
  }
 ],
 "metadata": {
  "kernelspec": {
   "display_name": "Python 3",
   "language": "python",
   "name": "python3"
  },
  "language_info": {
   "codemirror_mode": {
    "name": "ipython",
    "version": 3
   },
   "file_extension": ".py",
   "mimetype": "text/x-python",
   "name": "python",
   "nbconvert_exporter": "python",
   "pygments_lexer": "ipython3",
   "version": "3.13.3"
  }
 },
 "nbformat": 4,
 "nbformat_minor": 5
}
