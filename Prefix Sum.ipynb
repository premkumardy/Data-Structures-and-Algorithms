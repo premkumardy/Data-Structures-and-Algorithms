{
 "cells": [
  {
   "cell_type": "code",
   "execution_count": 21,
   "id": "2aa47878",
   "metadata": {},
   "outputs": [
    {
     "name": "stdout",
     "output_type": "stream",
     "text": [
      "[0, -1, -2, -3, -4, -5]\n",
      "[-5, -5, -4, -3, -2, -1]\n",
      "-5 -5\n",
      "2\n"
     ]
    },
    {
     "data": {
      "text/plain": [
       "0"
      ]
     },
     "execution_count": 21,
     "metadata": {},
     "output_type": "execute_result"
    }
   ],
   "source": [
    "class Solution(object):\n",
    "    def pivotIndex(self, nums):\n",
    "        \"\"\"\n",
    "        :type nums: List[int]\n",
    "        :rtype: int\n",
    "        \"\"\"\n",
    "        if not len(nums) > 2:\n",
    "            return -1\n",
    "        n = 0\n",
    "        prefix = []\n",
    "        for i in nums:\n",
    "            n += i\n",
    "            prefix.append(n)\n",
    "        \n",
    "        n = 0\n",
    "        postfix = [0]*len(nums)\n",
    "        for i in range(len(nums)-1,-1,-1):\n",
    "            n += nums[i]\n",
    "            postfix[i] = n\n",
    "\n",
    "        print(prefix)\n",
    "        print(postfix)\n",
    "\n",
    "        for i in range(len(nums)):\n",
    "            if i == 0 and postfix[i+1] == 0:\n",
    "                print(1)\n",
    "                return i\n",
    "            elif i < len(nums)-1 and prefix[i-1] == postfix[i+1]:\n",
    "                print(prefix[i-1],postfix[i+1])\n",
    "                print(2)\n",
    "                return i\n",
    "            elif i == len(nums)-1 and prefix[i-1] == 0:\n",
    "                print(3)\n",
    "                return i\n",
    "\n",
    "        return -1\n",
    "\n",
    "Solution().pivotIndex([0,-1,-1,-1,-1,-1])"
   ]
  },
  {
   "cell_type": "code",
   "execution_count": null,
   "id": "fbe6938f",
   "metadata": {},
   "outputs": [],
   "source": []
  }
 ],
 "metadata": {
  "kernelspec": {
   "display_name": "Python 3",
   "language": "python",
   "name": "python3"
  },
  "language_info": {
   "codemirror_mode": {
    "name": "ipython",
    "version": 3
   },
   "file_extension": ".py",
   "mimetype": "text/x-python",
   "name": "python",
   "nbconvert_exporter": "python",
   "pygments_lexer": "ipython3",
   "version": "3.13.3"
  }
 },
 "nbformat": 4,
 "nbformat_minor": 5
}
