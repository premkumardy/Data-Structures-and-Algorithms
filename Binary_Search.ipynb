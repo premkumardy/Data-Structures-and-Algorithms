{
 "cells": [
  {
   "cell_type": "markdown",
   "metadata": {},
   "source": [
    "#Binary Search"
   ]
  },
  {
   "cell_type": "code",
   "execution_count": 2,
   "metadata": {},
   "outputs": [
    {
     "name": "stdout",
     "output_type": "stream",
     "text": [
      "8\n",
      "-1\n"
     ]
    }
   ],
   "source": [
    "def BinarySearch(arr,t):\n",
    "    l,r = 0,len(arr)-1\n",
    "\n",
    "    while l<=r:\n",
    "        m = (l+r)//2\n",
    "        if t == arr[m]:\n",
    "            return m\n",
    "        elif t <arr[m]:\n",
    "            r = m-1\n",
    "        elif t > arr[m]:\n",
    "            l = m+1\n",
    "\n",
    "    return -1\n",
    "\n",
    "print(BinarySearch([0,1,2,3,4,5,6,7,8],8))\n",
    "print(BinarySearch([0,1,2,3,4,5,6,7,8],89))"
   ]
  },
  {
   "cell_type": "markdown",
   "metadata": {},
   "source": [
    "#Binary Search Range"
   ]
  },
  {
   "cell_type": "code",
   "execution_count": null,
   "metadata": {},
   "outputs": [],
   "source": [
    "def SearchRange(n):\n",
    "    s,e = 1,n\n",
    "\n",
    "    while s<=e:\n",
    "        m = (s+e)//2\n",
    "        res = guess(m)\n",
    "        if not res:\n",
    "            return m\n",
    "        elif\n",
    "\n",
    "\n",
    "        "
   ]
  },
  {
   "cell_type": "markdown",
   "metadata": {},
   "source": [
    "278. First Bad Version\n",
    "Easy\n",
    "Topics\n",
    "Companies\n",
    "You are a product manager and currently leading a team to develop a new product. Unfortunately, the latest version of your product fails the quality check. Since each version is developed based on the previous version, all the versions after a bad version are also bad.\n",
    "\n",
    "Suppose you have n versions [1, 2, ..., n] and you want to find out the first bad one, which causes all the following ones to be bad.\n",
    "\n",
    "You are given an API bool isBadVersion(version) which returns whether version is bad. Implement a function to find the first bad version. You should minimize the number of calls to the API.\n",
    "\n",
    " \n",
    "\n",
    "Example 1:\n",
    "\n",
    "Input: n = 5, bad = 4\n",
    "Output: 4\n",
    "Explanation:\n",
    "call isBadVersion(3) -> false\n",
    "call isBadVersion(5) -> true\n",
    "call isBadVersion(4) -> true\n",
    "Then 4 is the first bad version.\n",
    "Example 2:\n",
    "\n",
    "Input: n = 1, bad = 1\n",
    "Output: 1\n",
    " \n",
    "\n",
    "Constraints:\n",
    "\n",
    "1 <= bad <= n <= 231 - 1\n",
    "\n"
   ]
  },
  {
   "cell_type": "code",
   "execution_count": 14,
   "metadata": {},
   "outputs": [
    {
     "name": "stdout",
     "output_type": "stream",
     "text": [
      "m =  10 res =  False\n",
      "m =  15 res =  False\n",
      "m =  18 res =  False\n",
      "m =  19 res =  False\n",
      "m =  20 res =  False\n",
      "m,e = 20 20\n"
     ]
    },
    {
     "data": {
      "text/plain": [
       "20"
      ]
     },
     "execution_count": 14,
     "metadata": {},
     "output_type": "execute_result"
    }
   ],
   "source": [
    "# The isBadVersion API is already defined for you.\n",
    "# def isBadVersion(version: int) -> bool:\n",
    "\n",
    "\n",
    "def firstBadVersion(n):\n",
    "    s,e = 1,n\n",
    "\n",
    "    while s<=e:\n",
    "        m = (s + e)//2\n",
    "        \n",
    "        res = isBadVersion(m)\n",
    "        print('m = ',m,'res = ',res)\n",
    "        if m == e:\n",
    "            print('m,e =',m,e)\n",
    "            return m\n",
    "        elif not res:\n",
    "            s = m+1\n",
    "        elif res:\n",
    "            e = m\n",
    "\n",
    "    return -1\n",
    "\n",
    "def isBadVersion(version):\n",
    "    if version >= 76:\n",
    "        return True\n",
    "    else: return False\n",
    "\n",
    "\n",
    "firstBadVersion(20)\n",
    "           \n"
   ]
  },
  {
   "cell_type": "markdown",
   "metadata": {},
   "source": [
    "875. Koko Eating Bananas\n",
    "Medium\n",
    "Topics\n",
    "Companies\n",
    "Koko loves to eat bananas. There are n piles of bananas, the ith pile has piles[i] bananas. The guards have gone and will come back in h hours.\n",
    "\n",
    "Koko can decide her bananas-per-hour eating speed of k. Each hour, she chooses some pile of bananas and eats k bananas from that pile. If the pile has less than k bananas, she eats all of them instead and will not eat any more bananas during this hour.\n",
    "\n",
    "Koko likes to eat slowly but still wants to finish eating all the bananas before the guards return.\n",
    "\n",
    "Return the minimum integer k such that she can eat all the bananas within h hours.\n",
    "\n",
    " \n",
    "\n",
    "Example 1:\n",
    "\n",
    "Input: piles = [3,6,7,11], h = 8\n",
    "Output: 4\n",
    "Example 2:\n",
    "\n",
    "Input: piles = [30,11,23,4,20], h = 5\n",
    "Output: 30\n",
    "Example 3:\n",
    "\n",
    "Input: piles = [30,11,23,4,20], h = 6\n",
    "Output: 23\n",
    " \n",
    "\n",
    "Constraints:\n",
    "\n",
    "1 <= piles.length <= 104\n",
    "piles.length <= h <= 109\n",
    "1 <= piles[i] <= 109"
   ]
  },
  {
   "cell_type": "code",
   "execution_count": 19,
   "metadata": {},
   "outputs": [
    {
     "name": "stdout",
     "output_type": "stream",
     "text": [
      "30\n"
     ]
    }
   ],
   "source": [
    "# Brute Force O(n^2)\n",
    "import math\n",
    "def findMinK(piles,h):\n",
    "    \n",
    "    MaxElmnt = max(piles)\n",
    "    res = MaxElmnt\n",
    "    for k in range(1,MaxElmnt+1):\n",
    "        hours = 0\n",
    "        for j in piles:\n",
    "            hours += math.ceil(j/k)\n",
    "        if hours <= h:\n",
    "            res = min(res,k)\n",
    "\n",
    "    print(res)\n",
    "findMinK(piles = [30,11,23,4,20], h = 5)"
   ]
  },
  {
   "cell_type": "code",
   "execution_count": 23,
   "metadata": {},
   "outputs": [
    {
     "name": "stdout",
     "output_type": "stream",
     "text": [
      "30\n"
     ]
    }
   ],
   "source": [
    "# Optimized O(log n * n)\n",
    "import math\n",
    "def findMinK(piles,h):\n",
    "    \n",
    "    l,r = 0,max(piles)\n",
    "    res = r\n",
    "    while l<=r:\n",
    "        k = (l+r)//2\n",
    "        hours = 0\n",
    "        for j in piles:\n",
    "            hours += math.ceil(j/k)\n",
    "        if hours <= h:\n",
    "            res = min(res,k)\n",
    "            r = k-1\n",
    "        else:\n",
    "            l = k+1\n",
    "\n",
    "    print(res)\n",
    "findMinK(piles = [30,11,23,4,20], h = 5)"
   ]
  },
  {
   "cell_type": "code",
   "execution_count": null,
   "metadata": {},
   "outputs": [],
   "source": []
  }
 ],
 "metadata": {
  "kernelspec": {
   "display_name": "Python 3",
   "language": "python",
   "name": "python3"
  },
  "language_info": {
   "codemirror_mode": {
    "name": "ipython",
    "version": 3
   },
   "file_extension": ".py",
   "mimetype": "text/x-python",
   "name": "python",
   "nbconvert_exporter": "python",
   "pygments_lexer": "ipython3",
   "version": "3.12.7"
  }
 },
 "nbformat": 4,
 "nbformat_minor": 2
}
