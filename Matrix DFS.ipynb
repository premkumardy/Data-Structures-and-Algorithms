{
 "cells": [
  {
   "cell_type": "code",
   "execution_count": 1,
   "id": "4937c3d2",
   "metadata": {},
   "outputs": [
    {
     "data": {
      "text/plain": [
       "2"
      ]
     },
     "execution_count": 1,
     "metadata": {},
     "output_type": "execute_result"
    }
   ],
   "source": [
    "# Matrix (2D Grid)\n",
    "grid = [[0, 0, 0, 0],\n",
    "        [1, 1, 0, 0],\n",
    "        [0, 0, 0, 1],\n",
    "        [0, 1, 0, 0]]\n",
    "\n",
    "# Count paths (backtracking)\n",
    "def dfs(grid, r, c, visit):\n",
    "    ROWS, COLS = len(grid), len(grid[0])\n",
    "    if (min(r, c) < 0 or\n",
    "        r == ROWS or c == COLS or\n",
    "        (r, c) in visit or grid[r][c] == 1):\n",
    "        return 0\n",
    "    if r == ROWS - 1 and c == COLS - 1:\n",
    "        return 1\n",
    "\n",
    "    visit.add((r, c))\n",
    "\n",
    "\n",
    "    count = 0\n",
    "    count += dfs(grid, r + 1, c, visit)\n",
    "    count += dfs(grid, r - 1, c, visit)\n",
    "    count += dfs(grid, r, c + 1, visit)\n",
    "    count += dfs(grid, r, c - 1, visit)\n",
    "\n",
    "    visit.remove((r, c))\n",
    "    return count\n",
    "\n",
    "dfs(grid,0,0,set())\n"
   ]
  },
  {
   "cell_type": "markdown",
   "id": "73897023",
   "metadata": {},
   "source": [
    "Number of Islands\n",
    "Solved \n",
    "Given a 2D grid grid where '1' represents land and '0' represents water, count and return the number of islands.\n",
    "\n",
    "An island is formed by connecting adjacent lands horizontally or vertically and is surrounded by water. You may assume water is surrounding the grid (i.e., all the edges are water).\n",
    "\n",
    "Example 1:\n",
    "\n",
    "Input: grid = [\n",
    "    \n",
    "    [\"0\",\"1\",\"1\",\"1\",\"0\"],\n",
    "\n",
    "    [\"0\",\"1\",\"0\",\"1\",\"0\"],\n",
    "\n",
    "    [\"1\",\"1\",\"0\",\"0\",\"0\"],\n",
    "\n",
    "    [\"0\",\"0\",\"0\",\"0\",\"0\"]\n",
    "  ]\n",
    "Output: 1\n",
    "Example 2:\n",
    "\n",
    "Input: grid = [\n",
    "    \n",
    "    [\"1\",\"1\",\"0\",\"0\",\"1\"],\n",
    "    \n",
    "    [\"1\",\"1\",\"0\",\"0\",\"1\"],\n",
    "    \n",
    "    [\"0\",\"0\",\"1\",\"0\",\"0\"],\n",
    "    \n",
    "    [\"0\",\"0\",\"0\",\"1\",\"1\"]\n",
    "  ]\n",
    "Output: 4\n",
    "Constraints:\n",
    "\n",
    "1 <= grid.length, grid[i].length <= 100\n",
    "grid[i][j] is '0' or '1'."
   ]
  },
  {
   "cell_type": "code",
   "execution_count": 6,
   "id": "6f1468dd",
   "metadata": {},
   "outputs": [
    {
     "data": {
      "text/plain": [
       "1"
      ]
     },
     "execution_count": 6,
     "metadata": {},
     "output_type": "execute_result"
    }
   ],
   "source": [
    "from typing import List\n",
    "class Solution:\n",
    "    def numIslands(self, grid: List[List[str]]) -> int:\n",
    "        directions = [[1, 0], [-1, 0], [0, 1], [0, -1]]\n",
    "        ROWS, COLS = len(grid), len(grid[0])\n",
    "        islands = 0\n",
    "\n",
    "        def dfs(r, c):\n",
    "            if (r < 0 or c < 0 or r >= ROWS or\n",
    "                c >= COLS or grid[r][c] == \"0\"\n",
    "            ):\n",
    "                return\n",
    "\n",
    "            grid[r][c] = \"0\"\n",
    "            for dr, dc in directions:\n",
    "                dfs(r + dr, c + dc)\n",
    "\n",
    "        for r in range(ROWS):\n",
    "            for c in range(COLS):\n",
    "                if grid[r][c] == \"1\":\n",
    "                    dfs(r, c)\n",
    "                    islands += 1\n",
    "\n",
    "        return islands\n",
    "    \n",
    "grid = [\n",
    "    \n",
    "    [\"0\",\"1\",\"1\",\"1\",\"0\"],\n",
    "\n",
    "    [\"0\",\"1\",\"0\",\"1\",\"0\"],\n",
    "\n",
    "    [\"1\",\"1\",\"0\",\"0\",\"0\"],\n",
    "\n",
    "    [\"0\",\"0\",\"0\",\"0\",\"0\"]\n",
    "  ]\n",
    "\n",
    "\n",
    "Solution().numIslands(grid)"
   ]
  },
  {
   "attachments": {
    "image.png": {
     "image/png": "[encoded data removed]"
    }
   },
   "cell_type": "markdown",
   "id": "5b89afa1",
   "metadata": {},
   "source": [
    "Max Area of Island\n",
    "Solved \n",
    "You are given a matrix grid where grid[i] is either a 0 (representing water) or 1 (representing land).\n",
    "\n",
    "An island is defined as a group of 1's connected horizontally or vertically. You may assume all four edges of the grid are surrounded by water.\n",
    "\n",
    "The area of an island is defined as the number of cells within the island.\n",
    "\n",
    "Return the maximum area of an island in grid. If no island exists, return 0.\n",
    "\n",
    "Example 1:\n",
    "![image.png](attachment:image.png)\n",
    "\n",
    "\n",
    "Input: grid = [\n",
    "\n",
    "  [0,1,1,0,1],\n",
    "  \n",
    "  [1,0,1,0,1],\n",
    "  \n",
    "  [0,1,1,0,1],\n",
    "  \n",
    "  [0,1,0,0,1]\n",
    "]\n",
    "\n",
    "Output: 6\n",
    "Explanation: 1's cannot be connected diagonally, so the maximum area of the island is 6.\n",
    "\n",
    "Constraints:\n",
    "\n",
    "1 <= grid.length, grid[i].length <= 50"
   ]
  },
  {
   "cell_type": "code",
   "execution_count": 8,
   "id": "3066b17a",
   "metadata": {},
   "outputs": [],
   "source": [
    "class Solution:\n",
    "    def maxAreaOfIsland(self, grid: List[List[int]]) -> int:\n",
    "        ROWS, COLS = len(grid), len(grid[0])\n",
    "        visit = set()\n",
    "\n",
    "        def dfs(r, c):\n",
    "            if (r < 0 or r == ROWS or c < 0 or\n",
    "                c == COLS or grid[r][c] == 0 or\n",
    "                (r, c) in visit\n",
    "            ):\n",
    "                return 0\n",
    "            visit.add((r, c))\n",
    "            return (1 + dfs(r + 1, c) +\n",
    "                        dfs(r - 1, c) +\n",
    "                        dfs(r, c + 1) +\n",
    "                        dfs(r, c - 1))\n",
    "\n",
    "        area = 0\n",
    "        for r in range(ROWS):\n",
    "            for c in range(COLS):\n",
    "                area = max(area, dfs(r, c))\n",
    "        return area\n",
    "    "
   ]
  },
  {
   "cell_type": "code",
   "execution_count": null,
   "id": "33cf8d0e",
   "metadata": {},
   "outputs": [],
   "source": []
  }
 ],
 "metadata": {
  "kernelspec": {
   "display_name": "Python 3",
   "language": "python",
   "name": "python3"
  },
  "language_info": {
   "codemirror_mode": {
    "name": "ipython",
    "version": 3
   },
   "file_extension": ".py",
   "mimetype": "text/x-python",
   "name": "python",
   "nbconvert_exporter": "python",
   "pygments_lexer": "ipython3",
   "version": "3.13.7"
  }
 },
 "nbformat": 4,
 "nbformat_minor": 5
}
